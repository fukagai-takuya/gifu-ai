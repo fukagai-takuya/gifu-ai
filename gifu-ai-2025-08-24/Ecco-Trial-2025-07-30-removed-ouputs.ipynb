{
  "nbformat": 4,
  "nbformat_minor": 0,
  "metadata": {
    "colab": {
      "provenance": [],
      "authorship_tag": "ABX9TyNQuy7SR/wdwJuNiDFx4Cea",
      "include_colab_link": true
    },
    "kernelspec": {
      "name": "python3",
      "display_name": "Python 3"
    },
    "language_info": {
      "name": "python"
    }
  },
  "cells": [
    {
      "cell_type": "markdown",
      "metadata": {
        "id": "view-in-github",
        "colab_type": "text"
      },
      "source": [
        "<a href=\"https://colab.research.google.com/github/fukagai-takuya/gifu-ai/blob/main/gifu-ai-2025-08-24/Ecco-Trial-2025-07-30-removed-ouputs.ipynb\" target=\"_parent\"><img src=\"https://colab.research.google.com/assets/colab-badge.svg\" alt=\"Open In Colab\"/></a>"
      ]
    },
    {
      "cell_type": "markdown",
      "source": [
        "1. ecco をインストールします。2025年7月30日に下記のコマンドでインストールした ecco は version 0.1.2 でした。\n",
        "\n",
        "```\n",
        "!pip install git+https://github.com/jalammar/ecco.git\n",
        "```\n",
        "\n",
        "このコマンドを実行すると下記のモジュールがインストールされます。\n",
        "```\n",
        "captum-0.8.0 ecco-0.1.2 numpy-1.26.4 nvidia-cublas-cu12-12.4.5.8 nvidia-cuda-cupti-cu12-12.4.127 nvidia-cuda-nvrtc-cu12-12.4.127 nvidia-cuda-runtime-cu12-12.4.127 nvidia-cudnn-cu12-9.1.0.70 nvidia-cufft-cu12-11.2.1.3 nvidia-curand-cu12-10.3.5.147 nvidia-cusolver-cu12-11.6.1.9 nvidia-cusparse-cu12-12.3.1.170 nvidia-nvjitlink-cu12-12.4.127\n",
        "```\n",
        "\n",
        "下記のようなエラーメッセージが表示され、インストールした numpy-1.26.4 を使用するため、Google Colab の Runtime を再起動する必要がありました。\n",
        "\n",
        "```\n",
        "ERROR: pip's dependency resolver does not currently take into account all the packages that are installed. This behaviour is the source of the following dependency conflicts.\n",
        "opencv-contrib-python 4.12.0.88 requires numpy<2.3.0,>=2; python_version >= \"3.9\", but you have numpy 1.26.4 which is incompatible.\n",
        "thinc 8.3.6 requires numpy<3.0.0,>=2.0.0, but you have numpy 1.26.4 which is incompatible.\n",
        "opencv-python 4.12.0.88 requires numpy<2.3.0,>=2; python_version >= \"3.9\", but you have numpy 1.26.4 which is incompatible.\n",
        "opencv-python-headless 4.12.0.88 requires numpy<2.3.0,>=2; python_version >= \"3.9\", but you have numpy 1.26.4 which is incompatible.\n",
        "Successfully installed captum-0.8.0 ecco-0.1.2 numpy-1.26.4 nvidia-cublas-cu12-12.4.5.8 nvidia-cuda-cupti-cu12-12.4.127 nvidia-cuda-nvrtc-cu12-12.4.127 nvidia-cuda-runtime-cu12-12.4.127 nvidia-cudnn-cu12-9.1.0.70 nvidia-cufft-cu12-11.2.1.3 nvidia-curand-cu12-10.3.5.147 nvidia-cusolver-cu12-11.6.1.9 nvidia-cusparse-cu12-12.3.1.170 nvidia-nvjitlink-cu12-12.4.127\n",
        "WARNING: The following packages were previously imported in this runtime:\n",
        "  [numpy]\n",
        "You must restart the runtime in order to use newly installed versions.\n",
        "```"
      ],
      "metadata": {
        "id": "DzCWS2NjJ4ei"
      }
    },
    {
      "cell_type": "code",
      "execution_count": null,
      "metadata": {
        "id": "IrIiFUGAa9Bc"
      },
      "outputs": [],
      "source": [
        "!pip install git+https://github.com/jalammar/ecco.git"
      ]
    },
    {
      "cell_type": "markdown",
      "source": [
        "2. transfomers 4.24.0 をインストールします。\n",
        "\n",
        "最新の transformers のモジュールでは ecco 0.1.2 を使用した以降のコードセルのスクリプトを実行することができなかったため、transfomers 4.24.0 をインストールします。"
      ],
      "metadata": {
        "id": "eeNBZYmrM__H"
      }
    },
    {
      "cell_type": "code",
      "source": [
        "!pip install transformers==4.24.0"
      ],
      "metadata": {
        "id": "ZXwF1mPYMn13"
      },
      "execution_count": null,
      "outputs": []
    },
    {
      "cell_type": "markdown",
      "source": [
        "3. 下記のコードセルを実行します。ecco を使用して gpt2 が予測した Token がどの入力 Token の影響をより強く受けていたかを色で表示します。\n",
        "\n",
        "濃い色の Token がより強い影響を与えたことを表しています。\n",
        "\n",
        "下記のページの Input Saliency に関するスクリプトになります。\n",
        "\n",
        "https://jalammar.github.io/explaining-transformers/\n",
        "\n",
        "バックプロパゲーションで計算される各入力 Token の勾配と、各入力 Token のベクトルの積を要素ごとに取り、その二乗和を影響度の強さとしています。"
      ],
      "metadata": {
        "id": "vMZAsAudS-Pl"
      }
    },
    {
      "cell_type": "code",
      "source": [
        "import ecco\n",
        "lm = ecco.from_pretrained('gpt2')\n",
        "prompt=\"Heathrow airport is located in the city of\"\n",
        "\n",
        "output = lm.generate(prompt, generate=1, do_sample=False, attribution=['ig'])\n",
        "output.primary_attributions(attr_method='ig')"
      ],
      "metadata": {
        "id": "E9x__wmJ9CIe"
      },
      "execution_count": null,
      "outputs": []
    },
    {
      "cell_type": "markdown",
      "source": [
        "4. 一つ前のコードセルと同じ Input Saliency を表します。こちらは入力 Token の影響の大きさを数値で表します。"
      ],
      "metadata": {
        "id": "-DZGsB6UV2yL"
      }
    },
    {
      "cell_type": "code",
      "source": [
        "import ecco\n",
        "lm = ecco.from_pretrained('gpt2')\n",
        "prompt=\"Heathrow airport is located in the city of\"\n",
        "\n",
        "output = lm.generate(prompt, generate=1, do_sample=False, attribution=['ig'])\n",
        "output.primary_attributions(attr_method='ig', style=\"detailed\")"
      ],
      "metadata": {
        "id": "qSSOYf7KFhj2"
      },
      "execution_count": null,
      "outputs": []
    },
    {
      "cell_type": "markdown",
      "source": [
        "5. GPT2 small に複数の Token を生成させ、各 Token の生成に寄与した Token の影響力を数値で表したインタラクティブな図を出力します。"
      ],
      "metadata": {
        "id": "HyMEmnCPWTYV"
      }
    },
    {
      "cell_type": "code",
      "source": [
        "import ecco\n",
        "lm = ecco.from_pretrained('gpt2')\n",
        "prompt=\"In summer, when I hear the sound of cicadas,\"\n",
        "\n",
        "output = lm.generate(prompt, generate=10, do_sample=True, attribution=['ig'])\n",
        "output.primary_attributions(attr_method='ig', style=\"detailed\")"
      ],
      "metadata": {
        "id": "xpdCrzBvDcGt"
      },
      "execution_count": null,
      "outputs": []
    },
    {
      "cell_type": "markdown",
      "source": [
        "6. 下記のページに記載された、FFNN layers のニューロンの活動を NMS (Non-negative Matrix Factorization) で分析する処理に対応するスクリプトになります。\n",
        "\n",
        "https://jalammar.github.io/explaining-transformers/\n",
        "\n",
        "gpt2 をモデルに用いた場合は出力が文字化けしてしまったため、こちらのコードセルでは DistilBERT と BERT を使用しました。\n",
        "\n",
        "入力として使用した英文は私の Web ページから抜粋した文章になります。"
      ],
      "metadata": {
        "id": "EjG92CLNW4De"
      }
    },
    {
      "cell_type": "markdown",
      "source": [
        "6.1. DistilBERT の全ての層の FFNN 層を対象とした場合"
      ],
      "metadata": {
        "id": "cdQyJA3sZCX8"
      }
    },
    {
      "cell_type": "code",
      "source": [
        "import ecco\n",
        "lm = ecco.from_pretrained('distilbert-base-uncased', activations=True)\n",
        "text = 'Other species I saw on foot were Japanese grass lizards moving along the edges of the road, horseflies or carpenter bees flying near flowers with low buzzing sounds, small birds that I don’t see very often, and crows. I also heard a low buzzing sound coming from the high voltage lines. I thought the horseflies and carpenter bees, which fly with a low buzzing sound for their size, might alert humans and other animals with their sound.'\n",
        "inputs = lm.tokenizer([text], return_tensors=\"pt\")\n",
        "output = lm(inputs)\n",
        "nmf_1 = output.run_nmf(n_components=8)\n",
        "nmf_1.explore()"
      ],
      "metadata": {
        "id": "zqg5EuV3Q33M"
      },
      "execution_count": null,
      "outputs": []
    },
    {
      "cell_type": "markdown",
      "source": [
        "6.2. DistilBERT の最初の層の FFNN 層を対象とした場合"
      ],
      "metadata": {
        "id": "ID75tT7ZZSHy"
      }
    },
    {
      "cell_type": "code",
      "source": [
        "import ecco\n",
        "lm = ecco.from_pretrained('distilbert-base-uncased', activations=True)\n",
        "text = 'Other species I saw on foot were Japanese grass lizards moving along the edges of the road, horseflies or carpenter bees flying near flowers with low buzzing sounds, small birds that I don’t see very often, and crows. I also heard a low buzzing sound coming from the high voltage lines. I thought the horseflies and carpenter bees, which fly with a low buzzing sound for their size, might alert humans and other animals with their sound.'\n",
        "inputs = lm.tokenizer([text], return_tensors=\"pt\")\n",
        "output = lm(inputs)\n",
        "nmf_1 = output.run_nmf(n_components=8, from_layer=0, to_layer=1)\n",
        "nmf_1.explore()"
      ],
      "metadata": {
        "id": "a_oZjotJYrZi"
      },
      "execution_count": null,
      "outputs": []
    },
    {
      "cell_type": "markdown",
      "source": [
        "6.3. BERT の全ての層の FFNN 層を対象とした場合"
      ],
      "metadata": {
        "id": "BWZoIczJZyfW"
      }
    },
    {
      "cell_type": "code",
      "source": [
        "import ecco\n",
        "lm = ecco.from_pretrained('bert-base-uncased', activations=True)\n",
        "text = '''Other species I saw on foot were Japanese grass lizards moving along the edges of the road, horseflies or carpenter bees flying near flowers with low buzzing sounds, small birds that I don’t see very often, and crows. I also heard a low buzzing sound coming from the high voltage lines. I thought the horseflies and carpenter bees, which fly with a low buzzing sound for their size, might alert humans and other animals with their sound.'''\n",
        "inputs = lm.tokenizer([text], return_tensors=\"pt\")\n",
        "output = lm(inputs)\n",
        "nmf_1 = output.run_nmf(n_components=8)\n",
        "nmf_1.explore()"
      ],
      "metadata": {
        "id": "LnbO8HKdHUW2"
      },
      "execution_count": null,
      "outputs": []
    },
    {
      "cell_type": "markdown",
      "source": [
        "7. 下記のページの各層の Hidden States の分析についてのコードセルになります。\n",
        "\n",
        "https://jalammar.github.io/hidden-states/"
      ],
      "metadata": {
        "id": "DLlsdLlDZ7yN"
      }
    },
    {
      "cell_type": "markdown",
      "source": [
        "7.1. gpt2 の最終層から出力された次の Token のベクトルを調べ、最もスコアが高かった Token から順に 10 の Token の候補を出力しています。"
      ],
      "metadata": {
        "id": "bS8QEEf-aSRA"
      }
    },
    {
      "cell_type": "code",
      "source": [
        "import ecco\n",
        "lm = ecco.from_pretrained('gpt2', verbose=False)\n",
        "prompt=\"\"\" Heathrow airport is located in the city of\"\"\"\n",
        "\n",
        "output = lm.generate(prompt, generate=1, do_sample=False)\n",
        "output.layer_predictions(position=9, layer=11)"
      ],
      "metadata": {
        "id": "JAnrh6E8RowE"
      },
      "execution_count": null,
      "outputs": []
    },
    {
      "cell_type": "markdown",
      "source": [
        "7.2. gpt2 の12の各層から出力された Token ベクトルを調べ、最もスコアが高かった Token から順に 10 の Token の候補を出力しています。"
      ],
      "metadata": {
        "id": "sf_MCUQ7avtY"
      }
    },
    {
      "cell_type": "code",
      "source": [
        "import ecco\n",
        "lm = ecco.from_pretrained('gpt2', verbose=False)\n",
        "prompt=\"\"\" Heathrow airport is located in the city of\"\"\"\n",
        "\n",
        "output = lm.generate(prompt, generate=1, do_sample=False)\n",
        "output.layer_predictions(position=9)"
      ],
      "metadata": {
        "id": "gBxRu_fZOVp7"
      },
      "execution_count": null,
      "outputs": []
    },
    {
      "cell_type": "markdown",
      "source": [
        "7.3. \"Heathrow airport is located in the city of\" の次に来る Token が GPT-2 small の各レイヤーを経た後、何番目の候補となっていたかを表す図を表示しています。"
      ],
      "metadata": {
        "id": "hxxvYc2COJX9"
      }
    },
    {
      "cell_type": "code",
      "source": [
        "import ecco\n",
        "lm = ecco.from_pretrained('gpt2')\n",
        "prompt=\"Heathrow airport is located in the city of\"\n",
        "\n",
        "output = lm.generate(prompt, generate=1, do_sample=False)\n",
        "output.rankings()"
      ],
      "metadata": {
        "id": "Bm1Oao03Jm4s"
      },
      "execution_count": null,
      "outputs": []
    },
    {
      "cell_type": "markdown",
      "source": [
        "7.4. \"Good afternoon. \" に続く 10 の Token が GPT-2 small の各レイヤーを経た後、何番目の候補となっていたかを表す図を表示しています。"
      ],
      "metadata": {
        "id": "B2CEbdSbbaP0"
      }
    },
    {
      "cell_type": "code",
      "source": [
        "import ecco\n",
        "lm = ecco.from_pretrained('gpt2')\n",
        "prompt=\"Good afternoon. \"\n",
        "\n",
        "output = lm.generate(prompt, generate=10, do_sample=False)\n",
        "output.rankings()"
      ],
      "metadata": {
        "id": "yzrA9McSJHX3"
      },
      "execution_count": null,
      "outputs": []
    },
    {
      "cell_type": "markdown",
      "source": [
        "7.5. 一つ前の 7.4. と同様、\"Good afternoon. \" に続く 10 の Token が GPT-2 small の各レイヤーを経た後、何番目の候補となっていたかを表す図を表示しています。こちらは 7.4. とは異なり最もスコアが高い候補以外もサンプルするようにしています。(do_sample=True)"
      ],
      "metadata": {
        "id": "vm16Awp0bre0"
      }
    },
    {
      "cell_type": "code",
      "source": [
        "import ecco\n",
        "lm = ecco.from_pretrained('gpt2')\n",
        "prompt=\"Good afternoon. \"\n",
        "\n",
        "output = lm.generate(prompt, generate=10, do_sample=True)\n",
        "output.rankings()"
      ],
      "metadata": {
        "id": "P1whF4hjIsQP"
      },
      "execution_count": null,
      "outputs": []
    }
  ]
}