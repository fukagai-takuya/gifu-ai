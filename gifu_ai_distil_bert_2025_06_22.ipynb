{
  "nbformat": 4,
  "nbformat_minor": 0,
  "metadata": {
    "colab": {
      "provenance": [],
      "gpuType": "T4",
      "toc_visible": true,
      "name": "gifu-ai-distil-bert-2025-06-22.ipynb",
      "include_colab_link": true
    },
    "kernelspec": {
      "name": "python3",
      "display_name": "Python 3"
    },
    "language_info": {
      "name": "python"
    },
    "accelerator": "GPU"
  },
  "cells": [
    {
      "cell_type": "markdown",
      "metadata": {
        "id": "view-in-github",
        "colab_type": "text"
      },
      "source": [
        "<a href=\"https://colab.research.google.com/github/fukagai-takuya/gifu-ai/blob/main/gifu_ai_distil_bert_2025_06_22.ipynb\" target=\"_parent\"><img src=\"https://colab.research.google.com/assets/colab-badge.svg\" alt=\"Open In Colab\"/></a>"
      ]
    },
    {
      "cell_type": "markdown",
      "source": [
        "### 1. Python パッケージ ultralytics および関連するパッケージのインストールと動作確認"
      ],
      "metadata": {
        "id": "yOL_rZEeuihJ"
      }
    },
    {
      "cell_type": "code",
      "execution_count": null,
      "metadata": {
        "id": "j7jEq5uNuF3R"
      },
      "outputs": [],
      "source": [
        "%pip install ultralytics\n",
        "import ultralytics\n",
        "ultralytics.checks()"
      ]
    },
    {
      "cell_type": "markdown",
      "source": [
        "### 2. YOLO の学習済み物体検出モデルによる物体認識\n",
        "\n"
      ],
      "metadata": {
        "id": "nCb2f9pNv5gW"
      }
    },
    {
      "cell_type": "markdown",
      "source": [
        "#### 2.1. YOLO11n を使った物体認識"
      ],
      "metadata": {
        "id": "9ZWK9xPmFRR9"
      }
    },
    {
      "cell_type": "code",
      "source": [
        "# Run inference on an image with YOLO11n\n",
        "!yolo predict model=yolo11n.pt source='https://www.leafwindow.com/wordpress-05/wp-content/uploads/2023/12/IMG_6460-20.jpg'"
      ],
      "metadata": {
        "id": "NvsKFzCQu9fh"
      },
      "execution_count": null,
      "outputs": []
    },
    {
      "cell_type": "markdown",
      "source": [
        "#### 2.2. YOLO11x を使った物体認識"
      ],
      "metadata": {
        "id": "6-Zbz0Nc8n6u"
      }
    },
    {
      "cell_type": "code",
      "source": [
        "# Run inference on an image with YOLO11x\n",
        "!yolo predict model=yolo11x.pt source='https://www.leafwindow.com/wordpress-05/wp-content/uploads/2023/12/IMG_6460-20.jpg'"
      ],
      "metadata": {
        "id": "5LmAFm6kvpEi"
      },
      "execution_count": null,
      "outputs": []
    },
    {
      "cell_type": "markdown",
      "source": [
        "#### 2.3. YOLO11n を使った物体認識の失敗例 (正解はヌートリア)"
      ],
      "metadata": {
        "id": "2NcCx_RK-VyR"
      }
    },
    {
      "cell_type": "code",
      "source": [
        "# Run inference on an image with YOLO11n\n",
        "!yolo predict model=yolo11n.pt source='https://www.leafwindow.com/wordpress-05/wp-content/uploads/2025/02/DSC01080-min.jpg'"
      ],
      "metadata": {
        "id": "zRZaHTa6wasZ"
      },
      "execution_count": null,
      "outputs": []
    },
    {
      "cell_type": "markdown",
      "source": [
        "#### 2.4. YOLO11x を使った物体認識の失敗例 (正解はヌートリア)"
      ],
      "metadata": {
        "id": "I3yV5OsT96FC"
      }
    },
    {
      "cell_type": "code",
      "source": [
        "# Run inference on an image with YOLO11x\n",
        "!yolo predict model=yolo11x.pt source='https://www.leafwindow.com/wordpress-05/wp-content/uploads/2025/02/DSC01080-min.jpg'"
      ],
      "metadata": {
        "id": "-IJ1DCea9_GW"
      },
      "execution_count": null,
      "outputs": []
    },
    {
      "cell_type": "markdown",
      "source": [
        "#### 2.5. YOLO11n-pose を使った姿勢推定"
      ],
      "metadata": {
        "id": "j63kO-T6B9-u"
      }
    },
    {
      "cell_type": "code",
      "source": [
        "# pose estimation with yolo11n-pose model\n",
        "!yolo pose predict model=yolo11n-pose.pt source='https://ultralytics.com/images/bus.jpg'"
      ],
      "metadata": {
        "id": "W79bLY6tCI4A"
      },
      "execution_count": null,
      "outputs": []
    },
    {
      "cell_type": "markdown",
      "source": [
        "### 3. Google Drive のマウント"
      ],
      "metadata": {
        "id": "j0fN1Xl6AMVT"
      }
    },
    {
      "cell_type": "code",
      "source": [
        "from google.colab import drive\n",
        "drive.mount('/content/drive')"
      ],
      "metadata": {
        "id": "CfiAiKZ7Ayue"
      },
      "execution_count": null,
      "outputs": []
    },
    {
      "cell_type": "markdown",
      "source": [
        "#### 3.1. Google Drive 内のファイルを参照して物体認識"
      ],
      "metadata": {
        "id": "i8he34dlCqYw"
      }
    },
    {
      "cell_type": "code",
      "source": [
        "# Run inference on an image in Google Drive\n",
        "!yolo predict model=yolo11n.pt source='/content/drive/MyDrive/DSC00422-min (SonyAlpha-横).JPG'"
      ],
      "metadata": {
        "id": "tLSFYE0FC6_x"
      },
      "execution_count": null,
      "outputs": []
    },
    {
      "cell_type": "markdown",
      "source": [
        "#### 3.2. Google Drive 内のデータセットの圧縮ファイルをコピーして展開"
      ],
      "metadata": {
        "id": "lYaFIBBZDu7n"
      }
    },
    {
      "cell_type": "code",
      "source": [
        "%%bash\n",
        "mkdir -p dataset\n",
        "cd dataset\n",
        "cp /content/drive/MyDrive/gifu-ai-2025-03-23.zip .\n",
        "unzip gifu-ai-2025-03-23.zip"
      ],
      "metadata": {
        "collapsed": true,
        "id": "Bw55j8mrEPIl"
      },
      "execution_count": null,
      "outputs": []
    },
    {
      "cell_type": "markdown",
      "source": [
        "### 4. 岐阜市鳥羽川と百々ヶ峰で撮影した野鳥のデータセットで物体検出モデルを training"
      ],
      "metadata": {
        "id": "85UgCHdpENLn"
      }
    },
    {
      "cell_type": "code",
      "source": [
        "!yolo train model=yolo11n.pt data=/content/dataset/gifu-ai-2025-03-23/data.yaml epochs=50 batch=10"
      ],
      "metadata": {
        "collapsed": true,
        "id": "4A9_BAmiFGYi"
      },
      "execution_count": null,
      "outputs": []
    },
    {
      "cell_type": "markdown",
      "source": [
        "### 5. 岐阜市鳥羽川と百々ヶ峰の野鳥で training した物体検出モデルで野鳥の種類と位置を推定"
      ],
      "metadata": {
        "id": "ugf3PwgVLZzb"
      }
    },
    {
      "cell_type": "markdown",
      "source": [
        "#### 5.1. データセット内の test データを入力として野鳥の種類と位置を推定"
      ],
      "metadata": {
        "id": "3fmKB9BHFo7j"
      }
    },
    {
      "cell_type": "code",
      "source": [
        "!yolo predict model=/content/runs/detect/train/weights/best.pt source=/content/dataset/gifu-ai-2025-03-23/images/test"
      ],
      "metadata": {
        "id": "SP5OtkZAL2wn"
      },
      "execution_count": null,
      "outputs": []
    },
    {
      "cell_type": "markdown",
      "source": [
        "#### 5.2. データセット外の写真を入力として野鳥の位置と種類を推定"
      ],
      "metadata": {
        "id": "rMWGkVqeOHyB"
      }
    },
    {
      "cell_type": "code",
      "source": [
        "!yolo predict model=/content/runs/detect/train/weights/best.pt source=https://www.leafwindow.com/wordpress-05/wp-content/uploads/2023/02/DSC00022-min-SonyAlpha-%E6%A8%AA.jpg"
      ],
      "metadata": {
        "collapsed": true,
        "id": "RHH3RZdDOPTZ"
      },
      "execution_count": null,
      "outputs": []
    },
    {
      "cell_type": "code",
      "source": [
        "!yolo predict model=/content/runs/detect/train/weights/best.pt source=https://www.leafwindow.com/wordpress-05/wp-content/uploads/2023/02/DSC00065-min-SonyAlpha-%E6%A8%AA.jpg"
      ],
      "metadata": {
        "collapsed": true,
        "id": "st_EPRahPfDj"
      },
      "execution_count": null,
      "outputs": []
    },
    {
      "cell_type": "code",
      "source": [
        "!yolo predict model=/content/runs/detect/train/weights/best.pt source=https://www.leafwindow.com/wordpress-05/wp-content/uploads/2023/02/DSC00127-min-SonyAlpha-%E6%A8%AA.jpg"
      ],
      "metadata": {
        "collapsed": true,
        "id": "gdBni1aWP_fm"
      },
      "execution_count": null,
      "outputs": []
    }
  ]
}